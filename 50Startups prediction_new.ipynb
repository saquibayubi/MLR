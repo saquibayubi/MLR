{
 "cells": [
  {
   "cell_type": "code",
   "execution_count": null,
   "id": "1a66ec0e",
   "metadata": {},
   "outputs": [],
   "source": [
    "import pandas as pd\n",
    "import numpy as np\n",
    "import statsmodels.formula.api as smf\n",
    "import statsmodels.api as sm \n",
    "import matplotlib.pyplot as plt\n",
    "from sklearn.preprocessing import MinMaxScaler\n",
    "import sweetviz as sv \n",
    "import seaborn as sns\n",
    "from statsmodels.graphics.regressionplots import influence_plot"
   ]
  },
  {
   "cell_type": "code",
   "execution_count": null,
   "id": "2f3384a9",
   "metadata": {},
   "outputs": [],
   "source": [
    "pip install seaborn"
   ]
  },
  {
   "cell_type": "code",
   "execution_count": null,
   "id": "d50bc7d9",
   "metadata": {},
   "outputs": [],
   "source": [
    "import pandas as pd "
   ]
  },
  {
   "cell_type": "code",
   "execution_count": null,
   "id": "e92ce98e",
   "metadata": {},
   "outputs": [],
   "source": [
    "strt=pd.read_excel(\"50_Startups.xlsx\")\n",
    "strt.head()"
   ]
  },
  {
   "cell_type": "code",
   "execution_count": null,
   "id": "59250e67",
   "metadata": {},
   "outputs": [],
   "source": []
  },
  {
   "cell_type": "code",
   "execution_count": null,
   "id": "47ffc484",
   "metadata": {},
   "outputs": [],
   "source": [
    "strt.info()"
   ]
  },
  {
   "cell_type": "code",
   "execution_count": null,
   "id": "b3edf5c1",
   "metadata": {},
   "outputs": [],
   "source": [
    "strt.plot(kind='box',subplots=True, layout=(3,3),figsize=(20,20))"
   ]
  },
  {
   "cell_type": "code",
   "execution_count": null,
   "id": "64a5fda3",
   "metadata": {},
   "outputs": [],
   "source": [
    "strt1=pd.get_dummies(data=strt,columns=['State'])"
   ]
  },
  {
   "cell_type": "code",
   "execution_count": null,
   "id": "ab040c32",
   "metadata": {},
   "outputs": [],
   "source": [
    "strt1.head()"
   ]
  },
  {
   "cell_type": "code",
   "execution_count": null,
   "id": "db563826",
   "metadata": {},
   "outputs": [],
   "source": [
    "from scipy import stats\n",
    "zsc=stats.zscore(strt1)"
   ]
  },
  {
   "cell_type": "code",
   "execution_count": null,
   "id": "02dc9230",
   "metadata": {},
   "outputs": [],
   "source": [
    "zscores=np.abs(zsc)"
   ]
  },
  {
   "cell_type": "code",
   "execution_count": null,
   "id": "874e9733",
   "metadata": {},
   "outputs": [],
   "source": [
    "filter_zscores=(zscores<3).all(axis=1)"
   ]
  },
  {
   "cell_type": "code",
   "execution_count": null,
   "id": "e8b9fad9",
   "metadata": {},
   "outputs": [],
   "source": [
    "filtered=strt1[filter_zscores]"
   ]
  },
  {
   "cell_type": "code",
   "execution_count": null,
   "id": "038a293c",
   "metadata": {},
   "outputs": [],
   "source": [
    "filtered.shape #seems like there are no outliers as we can see after transforming df and trying to eliminate the zvalues above 3 and below -3 no row got eliminated "
   ]
  },
  {
   "cell_type": "code",
   "execution_count": null,
   "id": "a5193f91",
   "metadata": {},
   "outputs": [],
   "source": [
    "#Lets Try Isolation Forest method \n",
    "#clf=IsolationForest(random_state=20,contamination=0.05) #based on domain knowledge the contamination value should be set\n",
    "#clf.fit(strt1)"
   ]
  },
  {
   "cell_type": "code",
   "execution_count": null,
   "id": "e115486b",
   "metadata": {},
   "outputs": [],
   "source": [
    "#strt1['scores']=clf.decision_function(strt1)"
   ]
  },
  {
   "cell_type": "code",
   "execution_count": null,
   "id": "3ffe9213",
   "metadata": {},
   "outputs": [],
   "source": [
    "#strt1['anamoly']=clf.predict(strt1)"
   ]
  },
  {
   "cell_type": "code",
   "execution_count": null,
   "id": "8f5ac478",
   "metadata": {},
   "outputs": [],
   "source": [
    "#strt1"
   ]
  },
  {
   "cell_type": "code",
   "execution_count": null,
   "id": "476a2ffb",
   "metadata": {},
   "outputs": [],
   "source": [
    "strt1.corr() #we can observe that there is no multicollinearity problem between the independent variables"
   ]
  },
  {
   "cell_type": "code",
   "execution_count": null,
   "id": "b93ab5f1",
   "metadata": {},
   "outputs": [],
   "source": [
    "sns.heatmap(strt1.corr(),annot=True)\n",
    "#we can consider multicollinearity prob when correlation 'r' value is above 0.75 its nominal to consider for multicollinearity\n",
    "#there is barely any correlation between State_New_York vs Profit which is 0.031 we can drop this column"
   ]
  },
  {
   "cell_type": "code",
   "execution_count": null,
   "id": "1be6814f",
   "metadata": {},
   "outputs": [],
   "source": [
    "strt2=strt1.drop(['State_New York'],axis=1)\n",
    "strt2.head()"
   ]
  },
  {
   "cell_type": "code",
   "execution_count": null,
   "id": "e460194c",
   "metadata": {},
   "outputs": [],
   "source": [
    "scaler=MinMaxScaler(feature_range=(0,1))\n",
    "columns=strt2.columns\n",
    "d=scaler.fit_transform(strt2)\n",
    "normdf=pd.DataFrame(d,columns=columns)\n",
    "normdf.head()"
   ]
  },
  {
   "cell_type": "code",
   "execution_count": null,
   "id": "bbd9dd39",
   "metadata": {},
   "outputs": [],
   "source": [
    "sweet_report=sv.analyze(strt2)\n",
    "sweet_report.show_html('EDA_of_50Startups.html')"
   ]
  },
  {
   "cell_type": "code",
   "execution_count": null,
   "id": "90688c27",
   "metadata": {},
   "outputs": [],
   "source": [
    "normdf.corr()"
   ]
  },
  {
   "cell_type": "code",
   "execution_count": null,
   "id": "36dbfeae",
   "metadata": {},
   "outputs": [],
   "source": [
    "normdf.rename(columns={'R&D Spend':'RD_Spend'}, inplace=True)\n",
    "normdf.rename(columns={'Marketing Spend':'Marketing_Spend'},inplace=True)\n",
    "normdf.head()"
   ]
  },
  {
   "cell_type": "code",
   "execution_count": null,
   "id": "cab28580",
   "metadata": {},
   "outputs": [],
   "source": [
    "model= smf.ols('Profit~RD_Spend+Administration+Marketing_Spend+State_California+State_Florida',data=normdf).fit()\n",
    "#here had to change the column name as the code was showing error because the smf was treating R as separate in R&D_Spend column\n"
   ]
  },
  {
   "cell_type": "code",
   "execution_count": null,
   "id": "2719c3f2",
   "metadata": {},
   "outputs": [],
   "source": [
    "model.params"
   ]
  },
  {
   "cell_type": "code",
   "execution_count": null,
   "id": "9eb3ac36",
   "metadata": {},
   "outputs": [],
   "source": [
    "model.tvalues, '\\n', model.pvalues"
   ]
  },
  {
   "cell_type": "code",
   "execution_count": null,
   "id": "c744349d",
   "metadata": {},
   "outputs": [],
   "source": [
    "#lets build model2 only on RD_SPend,ADministration,Marketing_Spend\n",
    "model2=smf.ols('Profit~RD_Spend+Administration+Marketing_Spend',data=normdf).fit()"
   ]
  },
  {
   "cell_type": "code",
   "execution_count": null,
   "id": "7d35a5ff",
   "metadata": {},
   "outputs": [],
   "source": [
    "model2.params"
   ]
  },
  {
   "cell_type": "code",
   "execution_count": null,
   "id": "40c928df",
   "metadata": {},
   "outputs": [],
   "source": [
    "model2.tvalues, '\\n',model2.pvalues "
   ]
  },
  {
   "cell_type": "code",
   "execution_count": null,
   "id": "9c6c5054",
   "metadata": {},
   "outputs": [],
   "source": [
    "normdf1=normdf.drop(['State_California','State_Florida'],axis=1)"
   ]
  },
  {
   "cell_type": "code",
   "execution_count": null,
   "id": "2b2cccb6",
   "metadata": {},
   "outputs": [],
   "source": [
    "normdf1.corr()"
   ]
  },
  {
   "cell_type": "code",
   "execution_count": null,
   "id": "303803cc",
   "metadata": {},
   "outputs": [],
   "source": [
    "#Let us build model3 by excluding Administration\n",
    "model3=smf.ols('Profit~Marketing_Spend+RD_Spend',data=normdf1).fit()"
   ]
  },
  {
   "cell_type": "code",
   "execution_count": null,
   "id": "2c0ba244",
   "metadata": {},
   "outputs": [],
   "source": [
    "model3.params"
   ]
  },
  {
   "cell_type": "code",
   "execution_count": null,
   "id": "00368e09",
   "metadata": {},
   "outputs": [],
   "source": [
    "model3.tvalues,'\\n', model3.pvalues"
   ]
  },
  {
   "cell_type": "code",
   "execution_count": null,
   "id": "8265f4fa",
   "metadata": {},
   "outputs": [],
   "source": [
    "model3.rsquared,model2.rsquared,model.rsquared\n",
    "#we can see that after removing insignificant columns (Administration,State) the model's accuracy(R2 value) has barely changed"
   ]
  },
  {
   "cell_type": "code",
   "execution_count": null,
   "id": "bf03f38f",
   "metadata": {},
   "outputs": [],
   "source": [
    "#Residual plots for Homoscedasticity\n",
    "def get_standardized_values (vals):\n",
    "    return (vals-vals.mean())/vals.std()"
   ]
  },
  {
   "cell_type": "code",
   "execution_count": null,
   "id": "7979f327",
   "metadata": {},
   "outputs": [],
   "source": [
    "plt.scatter(get_standardized_values(model3.fittedvalues),\n",
    "           get_standardized_values(model3.resid))\n",
    "plt.title('Residuals plot for Model3')\n",
    "plt.xlabel('Fittedvalues')\n",
    "plt.ylabel('Residuals')\n",
    "plt.show()\n"
   ]
  },
  {
   "cell_type": "code",
   "execution_count": null,
   "id": "65613768",
   "metadata": {},
   "outputs": [],
   "source": [
    "#Quantile-Quantile plot \n",
    "qqplot=sm.qqplot(model3.resid,line='q')\n",
    "plt.title('Normality of Residuals Plot')\n",
    "plt.show()\n"
   ]
  },
  {
   "cell_type": "code",
   "execution_count": null,
   "id": "cf7e5abf",
   "metadata": {},
   "outputs": [],
   "source": [
    "fig=plt.figure(figsize=(15,8))\n",
    "fig=sm.graphics.plot_regress_exog(model3,'Marketing_Spend',fig=fig)\n",
    "plt.show()"
   ]
  },
  {
   "cell_type": "code",
   "execution_count": null,
   "id": "2b37b7df",
   "metadata": {},
   "outputs": [],
   "source": [
    "fig=plt.figure(figsize=(15,8))\n",
    "fig=sm.graphics.plot_regress_exog(model3,'RD_Spend',fig=fig)\n",
    "plt.show()"
   ]
  },
  {
   "cell_type": "code",
   "execution_count": null,
   "id": "bf4823bd",
   "metadata": {},
   "outputs": [],
   "source": [
    "model_influence=model3.get_influence()\n",
    "(c,_)=model_influence.cooks_distance\n",
    "summary_cooks=model_influence.summary_frame()\n",
    "summary_cooks"
   ]
  },
  {
   "cell_type": "code",
   "execution_count": null,
   "id": "4cf7476c",
   "metadata": {},
   "outputs": [],
   "source": [
    "fig=plt.subplots(figsize=(20,7))\n",
    "plt.stem(np.arange(len(normdf1)),np.round(c,3))\n",
    "plt.title(\"influential points\")\n",
    "plt.xlabel(\"row index\")\n",
    "plt.ylabel(\"Cook's Distance\")\n",
    "plt.show()"
   ]
  },
  {
   "cell_type": "code",
   "execution_count": null,
   "id": "c840fe42",
   "metadata": {},
   "outputs": [],
   "source": [
    "np.argmax(c),np.max(c)"
   ]
  },
  {
   "cell_type": "code",
   "execution_count": null,
   "id": "56279892",
   "metadata": {},
   "outputs": [],
   "source": [
    "pip install tabulate"
   ]
  },
  {
   "cell_type": "code",
   "execution_count": null,
   "id": "2f99344e",
   "metadata": {},
   "outputs": [],
   "source": [
    "from tabulate import tabulate"
   ]
  },
  {
   "cell_type": "code",
   "execution_count": null,
   "id": "bc0fd306",
   "metadata": {},
   "outputs": [],
   "source": [
    "table=[['Model No.','Rsquared','Adj_Rsquared','AIC','BIC'],\n",
    "       ['Model 1 ❌',model.rsquared,model.rsquared_adj,model.aic,model.bic],\n",
    "       ['Model 2 ❌',model2.rsquared,model2.rsquared_adj,model2.aic,model2.bic],\n",
    "       ['Model 3 ✔️',model3.rsquared,model3.rsquared_adj,model3.aic,model3.bic]]"
   ]
  },
  {
   "cell_type": "code",
   "execution_count": null,
   "id": "5a940205",
   "metadata": {},
   "outputs": [],
   "source": [
    "print(tabulate(table,headers='firstrow',tablefmt='grid',showindex=range(1,4)))"
   ]
  },
  {
   "cell_type": "code",
   "execution_count": null,
   "id": "5d3296f1",
   "metadata": {},
   "outputs": [],
   "source": [
    "model3.summary()"
   ]
  },
  {
   "cell_type": "code",
   "execution_count": null,
   "id": "37ad56c4",
   "metadata": {},
   "outputs": [],
   "source": [
    "pip install lazypredict"
   ]
  },
  {
   "cell_type": "code",
   "execution_count": null,
   "id": "95f36365",
   "metadata": {},
   "outputs": [],
   "source": [
    "from lazypredict.Supervised import LazyRegressor"
   ]
  },
  {
   "cell_type": "code",
   "execution_count": null,
   "id": "863263a6",
   "metadata": {},
   "outputs": [],
   "source": [
    "strt.head()"
   ]
  },
  {
   "cell_type": "code",
   "execution_count": null,
   "id": "9306c234",
   "metadata": {},
   "outputs": [],
   "source": [
    "from sklearn.preprocessing import LabelEncoder\n",
    "le=LabelEncoder()"
   ]
  },
  {
   "cell_type": "code",
   "execution_count": null,
   "id": "803d1c8b",
   "metadata": {},
   "outputs": [],
   "source": [
    "strt[\"State\"]=le.fit_transform(strt[\"State\"])"
   ]
  },
  {
   "cell_type": "code",
   "execution_count": null,
   "id": "039a9550",
   "metadata": {},
   "outputs": [],
   "source": [
    "strt.head()"
   ]
  },
  {
   "cell_type": "code",
   "execution_count": null,
   "id": "615848e5",
   "metadata": {},
   "outputs": [],
   "source": [
    "from sklearn.preprocessing import MinMaxScaler\n",
    "scaler=MinMaxScaler(feature_range=(1,2))\n",
    "d=scaler.fit_transform(strt)\n",
    "df=pd.DataFrame(d,columns=strt.columns)\n",
    "df.head()"
   ]
  },
  {
   "cell_type": "code",
   "execution_count": null,
   "id": "9416ab63",
   "metadata": {},
   "outputs": [],
   "source": [
    "X=df.iloc[:,:-1]\n",
    "Y=df.iloc[:,-1:]\n",
    "Y"
   ]
  },
  {
   "cell_type": "code",
   "execution_count": null,
   "id": "784de2d3",
   "metadata": {},
   "outputs": [],
   "source": [
    "from sklearn.model_selection import train_test_split\n",
    "x_train,x_test,y_train,y_test= train_test_split(X,Y,test_size=0.33,random_state=9)\n"
   ]
  },
  {
   "cell_type": "code",
   "execution_count": null,
   "id": "dcfc808d",
   "metadata": {},
   "outputs": [],
   "source": [
    "from lazypredict.Supervised import LazyRegressor\n",
    "from sklearn.metrics import mean_absolute_error"
   ]
  },
  {
   "cell_type": "code",
   "execution_count": null,
   "id": "03cb9e54",
   "metadata": {},
   "outputs": [],
   "source": [
    "reg=LazyRegressor(verbose=0,ignore_warnings=False,custom_metric=None)\n",
    "models,predictions= reg.fit(x_train,x_test,y_train,y_test)\n",
    "print(models)"
   ]
  },
  {
   "cell_type": "code",
   "execution_count": null,
   "id": "222b2692",
   "metadata": {},
   "outputs": [],
   "source": [
    "pip install xelatex"
   ]
  },
  {
   "cell_type": "code",
   "execution_count": null,
   "id": "6c9a167e",
   "metadata": {},
   "outputs": [],
   "source": []
  }
 ],
 "metadata": {
  "kernelspec": {
   "display_name": "Python 3",
   "language": "python",
   "name": "python3"
  },
  "language_info": {
   "codemirror_mode": {
    "name": "ipython",
    "version": 3
   },
   "file_extension": ".py",
   "mimetype": "text/x-python",
   "name": "python",
   "nbconvert_exporter": "python",
   "pygments_lexer": "ipython3",
   "version": "3.6.6+"
  },
  "vscode": {
   "interpreter": {
    "hash": "978d9105b068cbc356370494e3cb52e52fa7590bb9da26e4b7328c8ae4e62003"
   }
  }
 },
 "nbformat": 4,
 "nbformat_minor": 5
}
