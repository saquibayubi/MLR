{
 "cells": [
  {
   "cell_type": "code",
   "execution_count": 1,
   "id": "1a66ec0e",
   "metadata": {},
   "outputs": [
    {
     "ename": "ModuleNotFoundError",
     "evalue": "No module named 'statsmodels'",
     "output_type": "error",
     "traceback": [
      "\u001b[0;31m---------------------------------------------------------------------------\u001b[0m",
      "\u001b[0;31mModuleNotFoundError\u001b[0m                       Traceback (most recent call last)",
      "\u001b[0;32m/tmp/ipykernel_83/3759890974.py\u001b[0m in \u001b[0;36m<module>\u001b[0;34m\u001b[0m\n\u001b[1;32m      1\u001b[0m \u001b[0;32mimport\u001b[0m \u001b[0mpandas\u001b[0m \u001b[0;32mas\u001b[0m \u001b[0mpd\u001b[0m\u001b[0;34m\u001b[0m\u001b[0;34m\u001b[0m\u001b[0m\n\u001b[1;32m      2\u001b[0m \u001b[0;32mimport\u001b[0m \u001b[0mnumpy\u001b[0m \u001b[0;32mas\u001b[0m \u001b[0mnp\u001b[0m\u001b[0;34m\u001b[0m\u001b[0;34m\u001b[0m\u001b[0m\n\u001b[0;32m----> 3\u001b[0;31m \u001b[0;32mimport\u001b[0m \u001b[0mstatsmodels\u001b[0m\u001b[0;34m.\u001b[0m\u001b[0mformula\u001b[0m\u001b[0;34m.\u001b[0m\u001b[0mapi\u001b[0m \u001b[0;32mas\u001b[0m \u001b[0msmf\u001b[0m\u001b[0;34m\u001b[0m\u001b[0;34m\u001b[0m\u001b[0m\n\u001b[0m\u001b[1;32m      4\u001b[0m \u001b[0;32mimport\u001b[0m \u001b[0mstatsmodels\u001b[0m\u001b[0;34m.\u001b[0m\u001b[0mapi\u001b[0m \u001b[0;32mas\u001b[0m \u001b[0msm\u001b[0m\u001b[0;34m\u001b[0m\u001b[0;34m\u001b[0m\u001b[0m\n\u001b[1;32m      5\u001b[0m \u001b[0;32mimport\u001b[0m \u001b[0mmatplotlib\u001b[0m\u001b[0;34m.\u001b[0m\u001b[0mpyplot\u001b[0m \u001b[0;32mas\u001b[0m \u001b[0mplt\u001b[0m\u001b[0;34m\u001b[0m\u001b[0;34m\u001b[0m\u001b[0m\n",
      "\u001b[0;31mModuleNotFoundError\u001b[0m: No module named 'statsmodels'"
     ]
    }
   ],
   "source": []
  },
  {
   "cell_type": "code",
   "execution_count": 2,
   "id": "2f3384a9",
   "metadata": {},
   "outputs": [
    {
     "name": "stdout",
     "output_type": "stream",
     "text": [
      "Requirement already satisfied: pandas in /srv/conda/envs/notebook/lib/python3.7/site-packages (1.3.5)\n",
      "Requirement already satisfied: numpy>=1.17.3 in /srv/conda/envs/notebook/lib/python3.7/site-packages (from pandas) (1.21.6)\n",
      "Requirement already satisfied: python-dateutil>=2.7.3 in /srv/conda/envs/notebook/lib/python3.7/site-packages (from pandas) (2.8.2)\n",
      "Requirement already satisfied: pytz>=2017.3 in /srv/conda/envs/notebook/lib/python3.7/site-packages (from pandas) (2022.4)\n",
      "Requirement already satisfied: six>=1.5 in /srv/conda/envs/notebook/lib/python3.7/site-packages (from python-dateutil>=2.7.3->pandas) (1.16.0)\n",
      "Note: you may need to restart the kernel to use updated packages.\n"
     ]
    }
   ],
   "source": [
    "pip install pandas"
   ]
  },
  {
   "cell_type": "code",
   "execution_count": 3,
   "id": "c550d986",
   "metadata": {},
   "outputs": [
    {
     "name": "stdout",
     "output_type": "stream",
     "text": [
      "Collecting seaborn\n",
      "  Downloading seaborn-0.12.1-py3-none-any.whl (288 kB)\n",
      "\u001b[2K     \u001b[90m━━━━━━━━━━━━━━━━━━━━━━━━━━━━━━━━━━━━━━\u001b[0m \u001b[32m288.2/288.2 kB\u001b[0m \u001b[31m13.3 MB/s\u001b[0m eta \u001b[36m0:00:00\u001b[0m\n",
      "\u001b[?25hRequirement already satisfied: typing_extensions in /srv/conda/envs/notebook/lib/python3.7/site-packages (from seaborn) (4.4.0)\n",
      "Requirement already satisfied: pandas>=0.25 in /srv/conda/envs/notebook/lib/python3.7/site-packages (from seaborn) (1.3.5)\n",
      "Requirement already satisfied: numpy>=1.17 in /srv/conda/envs/notebook/lib/python3.7/site-packages (from seaborn) (1.21.6)\n",
      "Collecting matplotlib!=3.6.1,>=3.1\n",
      "  Downloading matplotlib-3.5.3-cp37-cp37m-manylinux_2_5_x86_64.manylinux1_x86_64.whl (11.2 MB)\n",
      "\u001b[2K     \u001b[90m━━━━━━━━━━━━━━━━━━━━━━━━━━━━━━━━━━━━━━━━\u001b[0m \u001b[32m11.2/11.2 MB\u001b[0m \u001b[31m7.7 MB/s\u001b[0m eta \u001b[36m0:00:00\u001b[0m00:01\u001b[0m00:01\u001b[0m\n",
      "\u001b[?25hRequirement already satisfied: pyparsing>=2.2.1 in /srv/conda/envs/notebook/lib/python3.7/site-packages (from matplotlib!=3.6.1,>=3.1->seaborn) (3.0.9)\n",
      "Requirement already satisfied: packaging>=20.0 in /srv/conda/envs/notebook/lib/python3.7/site-packages (from matplotlib!=3.6.1,>=3.1->seaborn) (21.3)\n",
      "Requirement already satisfied: python-dateutil>=2.7 in /srv/conda/envs/notebook/lib/python3.7/site-packages (from matplotlib!=3.6.1,>=3.1->seaborn) (2.8.2)\n",
      "Collecting pillow>=6.2.0\n",
      "  Downloading Pillow-9.3.0-cp37-cp37m-manylinux_2_17_x86_64.manylinux2014_x86_64.whl (3.2 MB)\n",
      "\u001b[2K     \u001b[90m━━━━━━━━━━━━━━━━━━━━━━━━━━━━━━━━━━━━━━━━\u001b[0m \u001b[32m3.2/3.2 MB\u001b[0m \u001b[31m10.2 MB/s\u001b[0m eta \u001b[36m0:00:00\u001b[0m00:01\u001b[0m00:01\u001b[0m\n",
      "\u001b[?25hCollecting cycler>=0.10\n",
      "  Downloading cycler-0.11.0-py3-none-any.whl (6.4 kB)\n",
      "Collecting kiwisolver>=1.0.1\n",
      "  Downloading kiwisolver-1.4.4-cp37-cp37m-manylinux_2_5_x86_64.manylinux1_x86_64.whl (1.1 MB)\n",
      "\u001b[2K     \u001b[90m━━━━━━━━━━━━━━━━━━━━━━━━━━━━━━━━━━━━━━━━\u001b[0m \u001b[32m1.1/1.1 MB\u001b[0m \u001b[31m35.9 MB/s\u001b[0m eta \u001b[36m0:00:00\u001b[0m\n",
      "\u001b[?25hCollecting fonttools>=4.22.0\n",
      "  Downloading fonttools-4.38.0-py3-none-any.whl (965 kB)\n",
      "\u001b[2K     \u001b[90m━━━━━━━━━━━━━━━━━━━━━━━━━━━━━━━━━━━━━━\u001b[0m \u001b[32m965.4/965.4 kB\u001b[0m \u001b[31m32.8 MB/s\u001b[0m eta \u001b[36m0:00:00\u001b[0m\n",
      "\u001b[?25hRequirement already satisfied: pytz>=2017.3 in /srv/conda/envs/notebook/lib/python3.7/site-packages (from pandas>=0.25->seaborn) (2022.4)\n",
      "Requirement already satisfied: six>=1.5 in /srv/conda/envs/notebook/lib/python3.7/site-packages (from python-dateutil>=2.7->matplotlib!=3.6.1,>=3.1->seaborn) (1.16.0)\n",
      "Installing collected packages: pillow, kiwisolver, fonttools, cycler, matplotlib, seaborn\n",
      "Successfully installed cycler-0.11.0 fonttools-4.38.0 kiwisolver-1.4.4 matplotlib-3.5.3 pillow-9.3.0 seaborn-0.12.1\n",
      "Note: you may need to restart the kernel to use updated packages.\n"
     ]
    }
   ],
   "source": [
    "pip install seaborn"
   ]
  },
  {
   "cell_type": "code",
   "execution_count": 4,
   "id": "61a7cae1",
   "metadata": {},
   "outputs": [
    {
     "name": "stdout",
     "output_type": "stream",
     "text": [
      "Requirement already satisfied: matplotlib in /srv/conda/envs/notebook/lib/python3.7/site-packages (3.5.3)\n",
      "Requirement already satisfied: python-dateutil>=2.7 in /srv/conda/envs/notebook/lib/python3.7/site-packages (from matplotlib) (2.8.2)\n",
      "Requirement already satisfied: kiwisolver>=1.0.1 in /srv/conda/envs/notebook/lib/python3.7/site-packages (from matplotlib) (1.4.4)\n",
      "Requirement already satisfied: fonttools>=4.22.0 in /srv/conda/envs/notebook/lib/python3.7/site-packages (from matplotlib) (4.38.0)\n",
      "Requirement already satisfied: packaging>=20.0 in /srv/conda/envs/notebook/lib/python3.7/site-packages (from matplotlib) (21.3)\n",
      "Requirement already satisfied: pyparsing>=2.2.1 in /srv/conda/envs/notebook/lib/python3.7/site-packages (from matplotlib) (3.0.9)\n",
      "Requirement already satisfied: pillow>=6.2.0 in /srv/conda/envs/notebook/lib/python3.7/site-packages (from matplotlib) (9.3.0)\n",
      "Requirement already satisfied: numpy>=1.17 in /srv/conda/envs/notebook/lib/python3.7/site-packages (from matplotlib) (1.21.6)\n",
      "Requirement already satisfied: cycler>=0.10 in /srv/conda/envs/notebook/lib/python3.7/site-packages (from matplotlib) (0.11.0)\n",
      "Requirement already satisfied: typing-extensions in /srv/conda/envs/notebook/lib/python3.7/site-packages (from kiwisolver>=1.0.1->matplotlib) (4.4.0)\n",
      "Requirement already satisfied: six>=1.5 in /srv/conda/envs/notebook/lib/python3.7/site-packages (from python-dateutil>=2.7->matplotlib) (1.16.0)\n",
      "Note: you may need to restart the kernel to use updated packages.\n"
     ]
    }
   ],
   "source": [
    "pip install matplotlib"
   ]
  },
  {
   "cell_type": "code",
   "execution_count": 5,
   "id": "6871cdf8",
   "metadata": {},
   "outputs": [
    {
     "name": "stdout",
     "output_type": "stream",
     "text": [
      "Collecting sweetviz\n",
      "  Downloading sweetviz-2.1.4-py3-none-any.whl (15.1 MB)\n",
      "\u001b[2K     \u001b[90m━━━━━━━━━━━━━━━━━━━━━━━━━━━━━━━━━━━━━━━━\u001b[0m \u001b[32m15.1/15.1 MB\u001b[0m \u001b[31m7.9 MB/s\u001b[0m eta \u001b[36m0:00:00\u001b[0m00:01\u001b[0m00:01\u001b[0m\n",
      "\u001b[?25hRequirement already satisfied: numpy>=1.16.0 in /srv/conda/envs/notebook/lib/python3.7/site-packages (from sweetviz) (1.21.6)\n",
      "Requirement already satisfied: jinja2>=2.11.1 in /srv/conda/envs/notebook/lib/python3.7/site-packages (from sweetviz) (3.1.2)\n",
      "Requirement already satisfied: importlib-resources>=1.2.0 in /srv/conda/envs/notebook/lib/python3.7/site-packages (from sweetviz) (5.10.0)\n",
      "Requirement already satisfied: matplotlib>=3.1.3 in /srv/conda/envs/notebook/lib/python3.7/site-packages (from sweetviz) (3.5.3)\n",
      "Collecting scipy>=1.3.2\n",
      "  Downloading scipy-1.7.3-cp37-cp37m-manylinux_2_12_x86_64.manylinux2010_x86_64.whl (38.1 MB)\n",
      "\u001b[2K     \u001b[90m━━━━━━━━━━━━━━━━━━━━━━━━━━━━━━━━━━━━━━━━\u001b[0m \u001b[32m38.1/38.1 MB\u001b[0m \u001b[31m7.1 MB/s\u001b[0m eta \u001b[36m0:00:00\u001b[0m00:01\u001b[0m00:01\u001b[0m\n",
      "\u001b[?25hRequirement already satisfied: pandas!=1.0.0,!=1.0.1,!=1.0.2,>=0.25.3 in /srv/conda/envs/notebook/lib/python3.7/site-packages (from sweetviz) (1.3.5)\n",
      "Collecting tqdm>=4.43.0\n",
      "  Downloading tqdm-4.64.1-py2.py3-none-any.whl (78 kB)\n",
      "\u001b[2K     \u001b[90m━━━━━━━━━━━━━━━━━━━━━━━━━━━━━━━━━━━━━━━━\u001b[0m \u001b[32m78.5/78.5 kB\u001b[0m \u001b[31m12.2 MB/s\u001b[0m eta \u001b[36m0:00:00\u001b[0m\n",
      "\u001b[?25hRequirement already satisfied: zipp>=3.1.0 in /srv/conda/envs/notebook/lib/python3.7/site-packages (from importlib-resources>=1.2.0->sweetviz) (3.9.0)\n",
      "Requirement already satisfied: MarkupSafe>=2.0 in /srv/conda/envs/notebook/lib/python3.7/site-packages (from jinja2>=2.11.1->sweetviz) (2.1.1)\n",
      "Requirement already satisfied: cycler>=0.10 in /srv/conda/envs/notebook/lib/python3.7/site-packages (from matplotlib>=3.1.3->sweetviz) (0.11.0)\n",
      "Requirement already satisfied: pillow>=6.2.0 in /srv/conda/envs/notebook/lib/python3.7/site-packages (from matplotlib>=3.1.3->sweetviz) (9.3.0)\n",
      "Requirement already satisfied: packaging>=20.0 in /srv/conda/envs/notebook/lib/python3.7/site-packages (from matplotlib>=3.1.3->sweetviz) (21.3)\n",
      "Requirement already satisfied: pyparsing>=2.2.1 in /srv/conda/envs/notebook/lib/python3.7/site-packages (from matplotlib>=3.1.3->sweetviz) (3.0.9)\n",
      "Requirement already satisfied: python-dateutil>=2.7 in /srv/conda/envs/notebook/lib/python3.7/site-packages (from matplotlib>=3.1.3->sweetviz) (2.8.2)\n",
      "Requirement already satisfied: kiwisolver>=1.0.1 in /srv/conda/envs/notebook/lib/python3.7/site-packages (from matplotlib>=3.1.3->sweetviz) (1.4.4)\n",
      "Requirement already satisfied: fonttools>=4.22.0 in /srv/conda/envs/notebook/lib/python3.7/site-packages (from matplotlib>=3.1.3->sweetviz) (4.38.0)\n",
      "Requirement already satisfied: pytz>=2017.3 in /srv/conda/envs/notebook/lib/python3.7/site-packages (from pandas!=1.0.0,!=1.0.1,!=1.0.2,>=0.25.3->sweetviz) (2022.4)\n",
      "Requirement already satisfied: typing-extensions in /srv/conda/envs/notebook/lib/python3.7/site-packages (from kiwisolver>=1.0.1->matplotlib>=3.1.3->sweetviz) (4.4.0)\n",
      "Requirement already satisfied: six>=1.5 in /srv/conda/envs/notebook/lib/python3.7/site-packages (from python-dateutil>=2.7->matplotlib>=3.1.3->sweetviz) (1.16.0)\n",
      "Installing collected packages: tqdm, scipy, sweetviz\n",
      "Successfully installed scipy-1.7.3 sweetviz-2.1.4 tqdm-4.64.1\n",
      "Note: you may need to restart the kernel to use updated packages.\n"
     ]
    }
   ],
   "source": [
    "pip install sweetviz"
   ]
  },
  {
   "cell_type": "code",
   "execution_count": 6,
   "id": "72f32770",
   "metadata": {},
   "outputs": [
    {
     "name": "stdout",
     "output_type": "stream",
     "text": [
      "Collecting scikit-learn\n",
      "  Downloading scikit_learn-1.0.2-cp37-cp37m-manylinux_2_17_x86_64.manylinux2014_x86_64.whl (24.8 MB)\n",
      "\u001b[2K     \u001b[90m━━━━━━━━━━━━━━━━━━━━━━━━━━━━━━━━━━━━━━━━\u001b[0m \u001b[32m24.8/24.8 MB\u001b[0m \u001b[31m13.5 MB/s\u001b[0m eta \u001b[36m0:00:00\u001b[0m00:01\u001b[0m00:01\u001b[0m\n",
      "\u001b[?25hRequirement already satisfied: numpy>=1.14.6 in /srv/conda/envs/notebook/lib/python3.7/site-packages (from scikit-learn) (1.21.6)\n",
      "Collecting joblib>=0.11\n",
      "  Downloading joblib-1.2.0-py3-none-any.whl (297 kB)\n",
      "\u001b[2K     \u001b[90m━━━━━━━━━━━━━━━━━━━━━━━━━━━━━━━━━━━━━━\u001b[0m \u001b[32m298.0/298.0 kB\u001b[0m \u001b[31m28.9 MB/s\u001b[0m eta \u001b[36m0:00:00\u001b[0m\n",
      "\u001b[?25hRequirement already satisfied: scipy>=1.1.0 in /srv/conda/envs/notebook/lib/python3.7/site-packages (from scikit-learn) (1.7.3)\n",
      "Collecting threadpoolctl>=2.0.0\n",
      "  Downloading threadpoolctl-3.1.0-py3-none-any.whl (14 kB)\n",
      "Installing collected packages: threadpoolctl, joblib, scikit-learn\n",
      "Successfully installed joblib-1.2.0 scikit-learn-1.0.2 threadpoolctl-3.1.0\n",
      "Note: you may need to restart the kernel to use updated packages.\n"
     ]
    }
   ],
   "source": [
    "pip install scikit-learn"
   ]
  },
  {
   "cell_type": "code",
   "execution_count": 8,
   "id": "d2758e7d",
   "metadata": {},
   "outputs": [
    {
     "name": "stdout",
     "output_type": "stream",
     "text": [
      "Collecting statsmodels\n",
      "  Downloading statsmodels-0.13.5-cp37-cp37m-manylinux_2_17_x86_64.manylinux2014_x86_64.whl (9.9 MB)\n",
      "\u001b[2K     \u001b[90m━━━━━━━━━━━━━━━━━━━━━━━━━━━━━━━━━━━━━━━━\u001b[0m \u001b[32m9.9/9.9 MB\u001b[0m \u001b[31m7.8 MB/s\u001b[0m eta \u001b[36m0:00:00\u001b[0m00:01\u001b[0m00:01\u001b[0mm\n",
      "\u001b[?25hRequirement already satisfied: scipy>=1.3 in /srv/conda/envs/notebook/lib/python3.7/site-packages (from statsmodels) (1.7.3)\n",
      "Collecting patsy>=0.5.2\n",
      "  Downloading patsy-0.5.3-py2.py3-none-any.whl (233 kB)\n",
      "\u001b[2K     \u001b[90m━━━━━━━━━━━━━━━━━━━━━━━━━━━━━━━━━━━━━━\u001b[0m \u001b[32m233.8/233.8 kB\u001b[0m \u001b[31m16.7 MB/s\u001b[0m eta \u001b[36m0:00:00\u001b[0m\n",
      "\u001b[?25hRequirement already satisfied: pandas>=0.25 in /srv/conda/envs/notebook/lib/python3.7/site-packages (from statsmodels) (1.3.5)\n",
      "Requirement already satisfied: packaging>=21.3 in /srv/conda/envs/notebook/lib/python3.7/site-packages (from statsmodels) (21.3)\n",
      "Requirement already satisfied: numpy>=1.17 in /srv/conda/envs/notebook/lib/python3.7/site-packages (from statsmodels) (1.21.6)\n",
      "Requirement already satisfied: pyparsing!=3.0.5,>=2.0.2 in /srv/conda/envs/notebook/lib/python3.7/site-packages (from packaging>=21.3->statsmodels) (3.0.9)\n",
      "Requirement already satisfied: pytz>=2017.3 in /srv/conda/envs/notebook/lib/python3.7/site-packages (from pandas>=0.25->statsmodels) (2022.4)\n",
      "Requirement already satisfied: python-dateutil>=2.7.3 in /srv/conda/envs/notebook/lib/python3.7/site-packages (from pandas>=0.25->statsmodels) (2.8.2)\n",
      "Requirement already satisfied: six in /srv/conda/envs/notebook/lib/python3.7/site-packages (from patsy>=0.5.2->statsmodels) (1.16.0)\n",
      "Installing collected packages: patsy, statsmodels\n",
      "Successfully installed patsy-0.5.3 statsmodels-0.13.5\n",
      "Note: you may need to restart the kernel to use updated packages.\n"
     ]
    }
   ],
   "source": [
    "pip install statsmodels"
   ]
  },
  {
   "cell_type": "code",
   "execution_count": null,
   "id": "d50bc7d9",
   "metadata": {},
   "outputs": [],
   "source": [
    "import pandas as pd\n",
    "import numpy as np\n",
    "import statsmodels.formula.api as smf\n",
    "import statsmodels.api as sm \n",
    "import matplotlib.pyplot as plt\n",
    "from sklearn.preprocessing import MinMaxScaler\n",
    "import sweetviz as sv \n",
    "import seaborn as sns\n",
    "from statsmodels.graphics.regressionplots import influence_plot"
   ]
  },
  {
   "cell_type": "code",
   "execution_count": null,
   "id": "e92ce98e",
   "metadata": {},
   "outputs": [],
   "source": [
    "strt=pd.read_excel(\"50_Startups.xlsx\")\n",
    "strt.head()"
   ]
  },
  {
   "cell_type": "code",
   "execution_count": null,
   "id": "59250e67",
   "metadata": {},
   "outputs": [],
   "source": []
  },
  {
   "cell_type": "code",
   "execution_count": null,
   "id": "47ffc484",
   "metadata": {},
   "outputs": [],
   "source": [
    "strt.info()"
   ]
  },
  {
   "cell_type": "code",
   "execution_count": null,
   "id": "b3edf5c1",
   "metadata": {},
   "outputs": [],
   "source": [
    "strt.plot(kind='box',subplots=True, layout=(3,3),figsize=(20,20))"
   ]
  },
  {
   "cell_type": "code",
   "execution_count": null,
   "id": "64a5fda3",
   "metadata": {},
   "outputs": [],
   "source": [
    "strt1=pd.get_dummies(data=strt,columns=['State'])"
   ]
  },
  {
   "cell_type": "code",
   "execution_count": null,
   "id": "ab040c32",
   "metadata": {},
   "outputs": [],
   "source": [
    "strt1.head()"
   ]
  },
  {
   "cell_type": "code",
   "execution_count": null,
   "id": "db563826",
   "metadata": {},
   "outputs": [],
   "source": [
    "from scipy import stats\n",
    "zsc=stats.zscore(strt1)"
   ]
  },
  {
   "cell_type": "code",
   "execution_count": null,
   "id": "02dc9230",
   "metadata": {},
   "outputs": [],
   "source": [
    "zscores=np.abs(zsc)"
   ]
  },
  {
   "cell_type": "code",
   "execution_count": null,
   "id": "874e9733",
   "metadata": {},
   "outputs": [],
   "source": [
    "filter_zscores=(zscores<3).all(axis=1)"
   ]
  },
  {
   "cell_type": "code",
   "execution_count": null,
   "id": "e8b9fad9",
   "metadata": {},
   "outputs": [],
   "source": [
    "filtered=strt1[filter_zscores]"
   ]
  },
  {
   "cell_type": "code",
   "execution_count": null,
   "id": "038a293c",
   "metadata": {},
   "outputs": [],
   "source": [
    "filtered.shape #seems like there are no outliers as we can see after transforming df and trying to eliminate the zvalues above 3 and below -3 no row got eliminated "
   ]
  },
  {
   "cell_type": "code",
   "execution_count": null,
   "id": "a5193f91",
   "metadata": {},
   "outputs": [],
   "source": [
    "#Lets Try Isolation Forest method \n",
    "#clf=IsolationForest(random_state=20,contamination=0.05) #based on domain knowledge the contamination value should be set\n",
    "#clf.fit(strt1)"
   ]
  },
  {
   "cell_type": "code",
   "execution_count": null,
   "id": "e115486b",
   "metadata": {},
   "outputs": [],
   "source": [
    "#strt1['scores']=clf.decision_function(strt1)"
   ]
  },
  {
   "cell_type": "code",
   "execution_count": null,
   "id": "3ffe9213",
   "metadata": {},
   "outputs": [],
   "source": [
    "#strt1['anamoly']=clf.predict(strt1)"
   ]
  },
  {
   "cell_type": "code",
   "execution_count": null,
   "id": "8f5ac478",
   "metadata": {},
   "outputs": [],
   "source": [
    "#strt1"
   ]
  },
  {
   "cell_type": "code",
   "execution_count": null,
   "id": "476a2ffb",
   "metadata": {},
   "outputs": [],
   "source": [
    "strt1.corr() #we can observe that there is no multicollinearity problem between the independent variables"
   ]
  },
  {
   "cell_type": "code",
   "execution_count": null,
   "id": "b93ab5f1",
   "metadata": {},
   "outputs": [],
   "source": [
    "sns.heatmap(strt1.corr(),annot=True)\n",
    "#we can consider multicollinearity prob when correlation 'r' value is above 0.75 its nominal to consider for multicollinearity\n",
    "#there is barely any correlation between State_New_York vs Profit which is 0.031 we can drop this column"
   ]
  },
  {
   "cell_type": "code",
   "execution_count": null,
   "id": "1be6814f",
   "metadata": {},
   "outputs": [],
   "source": [
    "strt2=strt1.drop(['State_New York'],axis=1)\n",
    "strt2.head()"
   ]
  },
  {
   "cell_type": "code",
   "execution_count": null,
   "id": "e460194c",
   "metadata": {},
   "outputs": [],
   "source": [
    "scaler=MinMaxScaler(feature_range=(0,1))\n",
    "columns=strt2.columns\n",
    "d=scaler.fit_transform(strt2)\n",
    "normdf=pd.DataFrame(d,columns=columns)\n",
    "normdf.head()"
   ]
  },
  {
   "cell_type": "code",
   "execution_count": null,
   "id": "bbd9dd39",
   "metadata": {},
   "outputs": [],
   "source": [
    "sweet_report=sv.analyze(strt2)\n",
    "sweet_report.show_html('EDA_of_50Startups.html')"
   ]
  },
  {
   "cell_type": "code",
   "execution_count": null,
   "id": "90688c27",
   "metadata": {},
   "outputs": [],
   "source": [
    "normdf.corr()"
   ]
  },
  {
   "cell_type": "code",
   "execution_count": null,
   "id": "36dbfeae",
   "metadata": {},
   "outputs": [],
   "source": [
    "normdf.rename(columns={'R&D Spend':'RD_Spend'}, inplace=True)\n",
    "normdf.rename(columns={'Marketing Spend':'Marketing_Spend'},inplace=True)\n",
    "normdf.head()"
   ]
  },
  {
   "cell_type": "code",
   "execution_count": null,
   "id": "cab28580",
   "metadata": {},
   "outputs": [],
   "source": [
    "model= smf.ols('Profit~RD_Spend+Administration+Marketing_Spend+State_California+State_Florida',data=normdf).fit()\n",
    "#here had to change the column name as the code was showing error because the smf was treating R as separate in R&D_Spend column\n"
   ]
  },
  {
   "cell_type": "code",
   "execution_count": null,
   "id": "2719c3f2",
   "metadata": {},
   "outputs": [],
   "source": [
    "model.params"
   ]
  },
  {
   "cell_type": "code",
   "execution_count": null,
   "id": "9eb3ac36",
   "metadata": {},
   "outputs": [],
   "source": [
    "model.tvalues, '\\n', model.pvalues"
   ]
  },
  {
   "cell_type": "code",
   "execution_count": null,
   "id": "c744349d",
   "metadata": {},
   "outputs": [],
   "source": [
    "#lets build model2 only on RD_SPend,ADministration,Marketing_Spend\n",
    "model2=smf.ols('Profit~RD_Spend+Administration+Marketing_Spend',data=normdf).fit()"
   ]
  },
  {
   "cell_type": "code",
   "execution_count": null,
   "id": "7d35a5ff",
   "metadata": {},
   "outputs": [],
   "source": [
    "model2.params"
   ]
  },
  {
   "cell_type": "code",
   "execution_count": null,
   "id": "40c928df",
   "metadata": {},
   "outputs": [],
   "source": [
    "model2.tvalues, '\\n',model2.pvalues "
   ]
  },
  {
   "cell_type": "code",
   "execution_count": null,
   "id": "9c6c5054",
   "metadata": {},
   "outputs": [],
   "source": [
    "normdf1=normdf.drop(['State_California','State_Florida'],axis=1)"
   ]
  },
  {
   "cell_type": "code",
   "execution_count": null,
   "id": "2b2cccb6",
   "metadata": {},
   "outputs": [],
   "source": [
    "normdf1.corr()"
   ]
  },
  {
   "cell_type": "code",
   "execution_count": null,
   "id": "303803cc",
   "metadata": {},
   "outputs": [],
   "source": [
    "#Let us build model3 by excluding Administration\n",
    "model3=smf.ols('Profit~Marketing_Spend+RD_Spend',data=normdf1).fit()"
   ]
  },
  {
   "cell_type": "code",
   "execution_count": null,
   "id": "2c0ba244",
   "metadata": {},
   "outputs": [],
   "source": [
    "model3.params"
   ]
  },
  {
   "cell_type": "code",
   "execution_count": null,
   "id": "00368e09",
   "metadata": {},
   "outputs": [],
   "source": [
    "model3.tvalues,'\\n', model3.pvalues"
   ]
  },
  {
   "cell_type": "code",
   "execution_count": null,
   "id": "8265f4fa",
   "metadata": {},
   "outputs": [],
   "source": [
    "model3.rsquared,model2.rsquared,model.rsquared\n",
    "#we can see that after removing insignificant columns (Administration,State) the model's accuracy(R2 value) has barely changed"
   ]
  },
  {
   "cell_type": "code",
   "execution_count": null,
   "id": "bf03f38f",
   "metadata": {},
   "outputs": [],
   "source": [
    "#Residual plots for Homoscedasticity\n",
    "def get_standardized_values (vals):\n",
    "    return (vals-vals.mean())/vals.std()"
   ]
  },
  {
   "cell_type": "code",
   "execution_count": null,
   "id": "7979f327",
   "metadata": {},
   "outputs": [],
   "source": [
    "plt.scatter(get_standardized_values(model3.fittedvalues),\n",
    "           get_standardized_values(model3.resid))\n",
    "plt.title('Residuals plot for Model3')\n",
    "plt.xlabel('Fittedvalues')\n",
    "plt.ylabel('Residuals')\n",
    "plt.show()\n"
   ]
  },
  {
   "cell_type": "code",
   "execution_count": null,
   "id": "65613768",
   "metadata": {},
   "outputs": [],
   "source": [
    "#Quantile-Quantile plot \n",
    "qqplot=sm.qqplot(model3.resid,line='q')\n",
    "plt.title('Normality of Residuals Plot')\n",
    "plt.show()\n"
   ]
  },
  {
   "cell_type": "code",
   "execution_count": null,
   "id": "cf7e5abf",
   "metadata": {},
   "outputs": [],
   "source": [
    "fig=plt.figure(figsize=(15,8))\n",
    "fig=sm.graphics.plot_regress_exog(model3,'Marketing_Spend',fig=fig)\n",
    "plt.show()"
   ]
  },
  {
   "cell_type": "code",
   "execution_count": null,
   "id": "2b37b7df",
   "metadata": {},
   "outputs": [],
   "source": [
    "fig=plt.figure(figsize=(15,8))\n",
    "fig=sm.graphics.plot_regress_exog(model3,'RD_Spend',fig=fig)\n",
    "plt.show()"
   ]
  },
  {
   "cell_type": "code",
   "execution_count": null,
   "id": "bf4823bd",
   "metadata": {},
   "outputs": [],
   "source": [
    "model_influence=model3.get_influence()\n",
    "(c,_)=model_influence.cooks_distance\n",
    "summary_cooks=model_influence.summary_frame()\n",
    "summary_cooks"
   ]
  },
  {
   "cell_type": "code",
   "execution_count": null,
   "id": "4cf7476c",
   "metadata": {},
   "outputs": [],
   "source": [
    "fig=plt.subplots(figsize=(20,7))\n",
    "plt.stem(np.arange(len(normdf1)),np.round(c,3))\n",
    "plt.title(\"influential points\")\n",
    "plt.xlabel(\"row index\")\n",
    "plt.ylabel(\"Cook's Distance\")\n",
    "plt.show()"
   ]
  },
  {
   "cell_type": "code",
   "execution_count": null,
   "id": "c840fe42",
   "metadata": {},
   "outputs": [],
   "source": [
    "np.argmax(c),np.max(c)"
   ]
  },
  {
   "cell_type": "code",
   "execution_count": null,
   "id": "56279892",
   "metadata": {},
   "outputs": [],
   "source": [
    "pip install tabulate"
   ]
  },
  {
   "cell_type": "code",
   "execution_count": null,
   "id": "2f99344e",
   "metadata": {},
   "outputs": [],
   "source": [
    "from tabulate import tabulate"
   ]
  },
  {
   "cell_type": "code",
   "execution_count": null,
   "id": "bc0fd306",
   "metadata": {},
   "outputs": [],
   "source": [
    "table=[['Model No.','Rsquared','Adj_Rsquared','AIC','BIC'],\n",
    "       ['Model 1 ❌',model.rsquared,model.rsquared_adj,model.aic,model.bic],\n",
    "       ['Model 2 ❌',model2.rsquared,model2.rsquared_adj,model2.aic,model2.bic],\n",
    "       ['Model 3 ✔️',model3.rsquared,model3.rsquared_adj,model3.aic,model3.bic]]"
   ]
  },
  {
   "cell_type": "code",
   "execution_count": null,
   "id": "5a940205",
   "metadata": {},
   "outputs": [],
   "source": [
    "print(tabulate(table,headers='firstrow',tablefmt='grid',showindex=range(1,4)))"
   ]
  },
  {
   "cell_type": "code",
   "execution_count": null,
   "id": "5d3296f1",
   "metadata": {},
   "outputs": [],
   "source": [
    "model3.summary()"
   ]
  },
  {
   "cell_type": "code",
   "execution_count": null,
   "id": "37ad56c4",
   "metadata": {},
   "outputs": [],
   "source": [
    "pip install lazypredict"
   ]
  },
  {
   "cell_type": "code",
   "execution_count": null,
   "id": "95f36365",
   "metadata": {},
   "outputs": [],
   "source": [
    "from lazypredict.Supervised import LazyRegressor"
   ]
  },
  {
   "cell_type": "code",
   "execution_count": null,
   "id": "863263a6",
   "metadata": {},
   "outputs": [],
   "source": [
    "strt.head()"
   ]
  },
  {
   "cell_type": "code",
   "execution_count": null,
   "id": "9306c234",
   "metadata": {},
   "outputs": [],
   "source": [
    "from sklearn.preprocessing import LabelEncoder\n",
    "le=LabelEncoder()"
   ]
  },
  {
   "cell_type": "code",
   "execution_count": null,
   "id": "803d1c8b",
   "metadata": {},
   "outputs": [],
   "source": [
    "strt[\"State\"]=le.fit_transform(strt[\"State\"])"
   ]
  },
  {
   "cell_type": "code",
   "execution_count": null,
   "id": "039a9550",
   "metadata": {},
   "outputs": [],
   "source": [
    "strt.head()"
   ]
  },
  {
   "cell_type": "code",
   "execution_count": null,
   "id": "615848e5",
   "metadata": {},
   "outputs": [],
   "source": [
    "from sklearn.preprocessing import MinMaxScaler\n",
    "scaler=MinMaxScaler(feature_range=(1,2))\n",
    "d=scaler.fit_transform(strt)\n",
    "df=pd.DataFrame(d,columns=strt.columns)\n",
    "df.head()"
   ]
  },
  {
   "cell_type": "code",
   "execution_count": null,
   "id": "9416ab63",
   "metadata": {},
   "outputs": [],
   "source": [
    "X=df.iloc[:,:-1]\n",
    "Y=df.iloc[:,-1:]\n",
    "Y"
   ]
  },
  {
   "cell_type": "code",
   "execution_count": null,
   "id": "784de2d3",
   "metadata": {},
   "outputs": [],
   "source": [
    "from sklearn.model_selection import train_test_split\n",
    "x_train,x_test,y_train,y_test= train_test_split(X,Y,test_size=0.33,random_state=9)\n"
   ]
  },
  {
   "cell_type": "code",
   "execution_count": null,
   "id": "dcfc808d",
   "metadata": {},
   "outputs": [],
   "source": [
    "from lazypredict.Supervised import LazyRegressor\n",
    "from sklearn.metrics import mean_absolute_error"
   ]
  },
  {
   "cell_type": "code",
   "execution_count": null,
   "id": "03cb9e54",
   "metadata": {},
   "outputs": [],
   "source": [
    "reg=LazyRegressor(verbose=0,ignore_warnings=False,custom_metric=None)\n",
    "models,predictions= reg.fit(x_train,x_test,y_train,y_test)\n",
    "print(models)"
   ]
  },
  {
   "cell_type": "code",
   "execution_count": null,
   "id": "222b2692",
   "metadata": {},
   "outputs": [],
   "source": [
    "pip install xelatex"
   ]
  },
  {
   "cell_type": "code",
   "execution_count": null,
   "id": "6c9a167e",
   "metadata": {},
   "outputs": [],
   "source": []
  }
 ],
 "metadata": {
  "kernelspec": {
   "display_name": "Python 3 (ipykernel)",
   "language": "python",
   "name": "python3"
  },
  "language_info": {
   "codemirror_mode": {
    "name": "ipython",
    "version": 3
   },
   "file_extension": ".py",
   "mimetype": "text/x-python",
   "name": "python",
   "nbconvert_exporter": "python",
   "pygments_lexer": "ipython3",
   "version": "3.7.12"
  },
  "vscode": {
   "interpreter": {
    "hash": "978d9105b068cbc356370494e3cb52e52fa7590bb9da26e4b7328c8ae4e62003"
   }
  }
 },
 "nbformat": 4,
 "nbformat_minor": 5
}
